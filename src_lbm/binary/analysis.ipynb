{
 "cells": [
  {
   "cell_type": "code",
   "execution_count": null,
   "metadata": {},
   "outputs": [],
   "source": [
    "import yt\n",
    "import numpy as np\n",
    "import matplotlib.pyplot as plt\n",
    "from numpy import fft"
   ]
  },
  {
   "cell_type": "code",
   "execution_count": null,
   "metadata": {},
   "outputs": [],
   "source": [
    "savedir = \"./\"\n",
    "L = 16\n",
    "start = 5\n",
    "ideal = 0\n",
    "binsize = L//2 - 1\n",
    "correlated = True\n",
    "\n",
    "kappa = 0.01\n",
    "kbt = 1e-7\n",
    "u0 = 0\n",
    "cs2 = 1/3\n",
    "gamma = 1.0\n",
    "Lambda = 0.4\n",
    "T = 0.25\n",
    "rho0 = 1.0"
   ]
  },
  {
   "cell_type": "markdown",
   "metadata": {},
   "source": [
    "# Helper functions"
   ]
  },
  {
   "cell_type": "code",
   "execution_count": null,
   "metadata": {},
   "outputs": [],
   "source": [
    "def lattice_fourier_laplacian(kx, ky, kz):\n",
    "    expr1 = np.cos(kx) + np.cos(ky) + np.cos(kz)\n",
    "    expr2 = np.cos(kx)*np.cos(ky) + np.cos(ky)*np.cos(kz) + np.cos(kx)*np.cos(kz)\n",
    "    out = 2/9*expr1 + 2/9*expr2 - 4/3\n",
    "    return -out/cs2\n",
    "\n",
    "def model_cs2(density, C0):\n",
    "    return T*density/(density - C0) - 2*Lambda*(C0/density)**2\n",
    "\n",
    "def cs2k(kx, ky, kz, density, C0):\n",
    "    thermal_cs2 = model_cs2(density, C0)\n",
    "    k2 = lattice_fourier_laplacian(kx, ky, kz)\n",
    "    if correlated:\n",
    "        out = thermal_cs2 + k2*kappa*rho0\n",
    "    else:\n",
    "        out = thermal_cs2\n",
    "    return out\n",
    "\n",
    "def mu_c(density, C0):\n",
    "    return T*density/(C0*(density - C0)) - 2*Lambda/density\n",
    "\n",
    "def mu_ck(kx, ky, kz, density, C0):\n",
    "    ref_state = mu_c(density, C0)\n",
    "    k2 = lattice_fourier_laplacian(kx, ky, kz)\n",
    "    if correlated:\n",
    "        out = ref_state + 2*kappa*k2\n",
    "    else:\n",
    "        out = ref_state\n",
    "    return out"
   ]
  },
  {
   "cell_type": "code",
   "execution_count": null,
   "metadata": {},
   "outputs": [],
   "source": [
    "def spherically_averaged_structure_factor(data, density, C0, scale_factor = 1, func = None, shift = True, cs = True):\n",
    "    L = min(data.shape)\n",
    "    S = data.copy()\n",
    "\n",
    "    if shift:\n",
    "        freqs = fft.fftshift(fft.fftfreq(L))\n",
    "    else:\n",
    "        freqs = fft.fftfreq(L)\n",
    "    if len(data.shape) == 3:\n",
    "        kx, ky, kz = np.meshgrid(*tuple([2*np.pi*freqs for L in [L, L, L]]), indexing='ij')\n",
    "        k = np.stack([kx, ky, kz], axis = -1)\n",
    "    elif len(data.shape) == 2:\n",
    "        kx, ky = np.meshgrid(*tuple([2*np.pi*freqs for L in [L, L]]), indexing='ij')\n",
    "        k = np.stack([kx, ky], axis = -1)\n",
    "     \n",
    "    k1 = np.linalg.norm(k, axis=-1).flatten()\n",
    "    \n",
    "    if func is not None:\n",
    "        if cs:\n",
    "            S = func(S, cs2k(kx, ky, kz, density, C0))\n",
    "        else:\n",
    "            S = func(S, mu_ck(kx, ky, kz, density, C0))\n",
    "    S /= scale_factor\n",
    "\n",
    "    S1 = S.flatten()\n",
    "    kmin = 2*np.pi/L # sampling frequency\n",
    "    where = np.s_[:]#np.where(k1<=kmax)\n",
    "    bins = np.arange(L//2+1)*kmin # kmax+1 for bin_edges: len(bins)=len(hist)+1\n",
    "    \n",
    "    shells = np.histogram(k1[where], bins, weights=S1[where])[0]\n",
    "    counts = np.histogram(k1[where], bins)[0]\n",
    "    return (bins[:-1]+bins[1:])/2, shells/counts"
   ]
  },
  {
   "cell_type": "code",
   "execution_count": null,
   "metadata": {},
   "outputs": [],
   "source": [
    "def cart2sph(x,y,z):\n",
    "    azimuth = np.arctan2(y,x)\n",
    "    elevation = np.arctan2(z,np.sqrt(x**2 + y**2))\n",
    "    r = np.sqrt(x**2 + y**2 + z**2)\n",
    "    return r, azimuth, elevation\n",
    "\n",
    "def sph2cart(azimuth,elevation,r):\n",
    "    x = r * np.cos(elevation) * np.cos(azimuth)\n",
    "    y = r * np.cos(elevation) * np.sin(azimuth)\n",
    "    z = r * np.sin(elevation)\n",
    "    return x, y, z\n",
    "\n",
    "def radial_equilibration(data, density, C0, radius = 1, scale_factor = 1, func = None, cs = True):\n",
    "    S = data.copy()\n",
    "    L = min(S.shape)\n",
    "    freqs = fft.fftshift(fft.fftfreq(L))\n",
    "    kx, ky, kz = np.meshgrid(*tuple([2*np.pi*freqs for L in [L, L, L]]), indexing='ij')\n",
    "\n",
    "    r, t, p = cart2sph(kx, ky, kz)\n",
    "\n",
    "    if func is not None:\n",
    "        if cs:\n",
    "            S = func(S, cs2k(kx, ky, kz, density, C0))\n",
    "        else:\n",
    "            S = func(S, mu_ck(kx, ky, kz, density, C0))\n",
    "    S /= scale_factor\n",
    "\n",
    "    idxs = np.isclose(r, radius, atol = 2*np.pi/L)\n",
    "    t = t[idxs]\n",
    "    p = p[idxs]\n",
    "    out = S[idxs]\n",
    "\n",
    "    return t, p, out"
   ]
  },
  {
   "cell_type": "code",
   "execution_count": null,
   "metadata": {},
   "outputs": [],
   "source": [
    "def make_bins(to_bin1, binsize, to_bin2 = None):\n",
    "    bins = np.linspace(to_bin1.min(), to_bin1.max(), binsize)\n",
    "\n",
    "    out1 = np.zeros(binsize)\n",
    "    shell = np.digitize(to_bin1, bins = bins, right = True)\n",
    "    np.add.at(out1, shell, to_bin1)\n",
    "    unique, counts = np.unique(shell, return_counts=True)\n",
    "    out1 = out1[unique]\n",
    "    out1 /= counts\n",
    "\n",
    "    if to_bin2 is None:\n",
    "        return bins, out1\n",
    "    else:\n",
    "        out2 = np.zeros(binsize)\n",
    "        np.add.at(out2, shell, to_bin2)\n",
    "        unique, counts = np.unique(shell, return_counts=True)\n",
    "        out2 = out2[unique]\n",
    "        out2 /= counts\n",
    "        return out1, out2"
   ]
  },
  {
   "cell_type": "markdown",
   "metadata": {},
   "source": [
    "# Valid variable range"
   ]
  },
  {
   "cell_type": "markdown",
   "metadata": {},
   "source": [
    "From the covariance matrix, certain limits on parameter values are set based upon ensuring that the diagonal remains positive. This limit is set by the term. $5 - c_s^2(k)$ in Xi[5, 5] which corresponds to a maximum allowable $c_s^2(k) = 0.\\bar{5}$. The parameter that controls $c_s^2$ is $T$ as $c_s^2 = T$. $T_c$ or the critical temperature where demixing begins is defined as $T_c = \\lambda/2$. In the expression for calculating $c_s^2(k) = c_s^2 + \\kappa \\rho_0 k^2$, $\\kappa$ also controls the value of $c_s^2(k)$. Therefore this phase diagram will be defined using $\\lambda$ and $\\kappa$. Tested ranges will be $0.1 \\leq \\lambda \\leq 1.1$ and $0.01 \\leq \\kappa \\leq 0.05$"
   ]
  },
  {
   "cell_type": "code",
   "execution_count": null,
   "metadata": {},
   "outputs": [],
   "source": [
    "L = 16\n",
    "points = 1001\n",
    "\n",
    "freqs = fft.fftshift(fft.fftfreq(L))\n",
    "kx, ky, kz = np.meshgrid(*tuple([2*np.pi*freqs for L in [L, L, L]]), indexing='ij')\n",
    "k2 = lattice_fourier_laplacian(kx, ky, kz)\n",
    "\n",
    "chimin = 0.1\n",
    "chimax = 1.1\n",
    "\n",
    "kappamin = 0.01\n",
    "kappamax = 0.1\n",
    "\n",
    "chi_s = np.linspace(chimin, chimax, points)\n",
    "kappa_s = np.linspace(kappamin, kappamax, points)\n",
    "cs2kmax = np.zeros((points, points))\n",
    "\n",
    "CHI, KAPPA = np.meshgrid(*[chi_s, kappa_s])\n",
    "rho0 = 1.0\n",
    "cs2kmax = CHI/2 + KAPPA*rho0*np.amax(k2)\n",
    "\n",
    "valid_areas = np.where(cs2kmax < 5/9, 1, 0)"
   ]
  },
  {
   "cell_type": "code",
   "execution_count": null,
   "metadata": {},
   "outputs": [],
   "source": [
    "fig, ax = plt.subplots(1, 1, figsize = (3, 3))\n",
    "\n",
    "im = ax.contourf(CHI, KAPPA, valid_areas, levels = 1, colors = ['tab:gray', 'w'])\n",
    "# im = ax.pcolor(CHI, KAPPA, cs2kmax, vmin = 0, vmax = 5/9, cmap = \"magma\")\n",
    "ax.set_xlabel(r\"$\\lambda$\")\n",
    "ax.set_ylabel(r\"$\\kappa$\")\n",
    "\n",
    "fig.tight_layout()"
   ]
  },
  {
   "cell_type": "code",
   "execution_count": null,
   "metadata": {},
   "outputs": [],
   "source": []
  },
  {
   "cell_type": "markdown",
   "metadata": {},
   "source": [
    "# Validation"
   ]
  },
  {
   "cell_type": "markdown",
   "metadata": {},
   "source": [
    "## Equilibration ratios"
   ]
  },
  {
   "cell_type": "code",
   "execution_count": null,
   "metadata": {},
   "outputs": [],
   "source": [
    "idx = -1\n",
    "rho_data = 1.0\n",
    "C1_data = 0.5\n",
    "ts = yt.load(savedir+\"SF_plt_mag*\")\n",
    "ds = ts[idx]\n",
    "ad = ds.all_data()"
   ]
  },
  {
   "cell_type": "code",
   "execution_count": null,
   "metadata": {},
   "outputs": [],
   "source": [
    "ds.field_list"
   ]
  },
  {
   "cell_type": "markdown",
   "metadata": {},
   "source": [
    "### Density"
   ]
  },
  {
   "cell_type": "code",
   "execution_count": null,
   "metadata": {},
   "outputs": [],
   "source": [
    "data = [np.array(ad[('boxlib', 'struct_fact_density_density')]).reshape(L, L, L)]\n",
    "\n",
    "ar = 1.5\n",
    "sz = 3\n",
    "fig, ax = plt.subplots(1, 1, figsize = (sz*ar, sz))\n",
    "\n",
    "colors = ['b', \"r\", \"k\"]\n",
    "markers = [\"o\", \"s\", '^']\n",
    "labels = [r\"$\\rho$\"]\n",
    "\n",
    "rho_scale = lambda a, c: a*c\n",
    "scale_factor = 1\n",
    "# scale_factor = cs2\n",
    "\n",
    "for d in data:\n",
    "        x, y = spherically_averaged_structure_factor(d, rho_data, C1_data, scale_factor = scale_factor, func = rho_scale)\n",
    "        x, y = make_bins(x, binsize, to_bin2 = y)\n",
    "        ax.plot(x, y, \n",
    "                marker = markers[0], color = colors[0],\n",
    "                markerfacecolor = \"None\", markersize = 10, \n",
    "                linestyle = \"None\", label = labels[0])\n",
    "\n",
    "ax.plot(x, [1]*x.size, 'lime', lw = 2)\n",
    "\n",
    "ax.set_xlabel(r\"$k$\", fontsize = 14)\n",
    "ax.set_ylabel(r\"$\\frac{ \\langle | \\rho(k) | ^2 \\rangle }{S(k)}$\", fontsize = 14)\n",
    "\n",
    "ax.tick_params(axis='both', which='major', labelsize=12)\n",
    "ax.tick_params(axis='both', which='minor', labelsize=10)\n",
    "ax.legend()\n",
    "# ax.set_ylim([0.90, 1.1])\n",
    "fig.tight_layout()\n",
    "# fig.savefig(\"./equilibration_ratio.svg\")"
   ]
  },
  {
   "cell_type": "code",
   "execution_count": null,
   "metadata": {},
   "outputs": [],
   "source": [
    "sz = 4\n",
    "fig, tax = plt.subplots(1, 1, figsize = (sz, sz), subplot_kw={'projection': 'polar'})\n",
    "fig, pax = plt.subplots(1, 1, figsize = (sz, sz), subplot_kw={'projection': 'polar'})\n",
    "\n",
    "colors = ['b', \"r\", \"k\"]\n",
    "markers = [\"o\", \"s\", '^']\n",
    "\n",
    "radii = [0.5, 1.5, 2.5]\n",
    "\n",
    "t_angle = 0\n",
    "p_angle = 0 \n",
    "# binsize = 10\n",
    "\n",
    "# rho_scale = None\n",
    "# scale_factor = 1/cs2\n",
    "\n",
    "for d in data:\n",
    "    ax1 = tax\n",
    "    ax2 = pax\n",
    "    for i, r in enumerate(radii):\n",
    "        t, p, sf = radial_equilibration(d, rho_data, C1_data, radius = r, func=rho_scale, scale_factor = scale_factor)\n",
    "\n",
    "        idxs = np.isclose(np.abs(t), t_angle/180*np.pi, atol = np.pi/L)\n",
    "        angles = np.abs(p)[idxs]\n",
    "        segment = sf[idxs]\n",
    "        angles, segment =  make_bins(angles, binsize, to_bin2 = segment)\n",
    "        ax1.plot(angles, segment, color = colors[i], label = f\"R = {r}\",lw = 2)\n",
    "\n",
    "        idxs = np.isclose(np.abs(p), p_angle/180*np.pi, atol = np.pi/L)\n",
    "        angles = np.abs(t)[idxs]\n",
    "        segment = sf[idxs]\n",
    "        angles, segment =  make_bins(angles, binsize, to_bin2 = segment)\n",
    "        ax2.plot(angles, segment, color = colors[i], label = f\"R = {r}\",lw = 2)\n",
    "\n",
    "\n",
    "    ax1.set_rticks([0.5, 1.0])\n",
    "    ax1.set_thetalim([0, np.pi/2])\n",
    "    ax1.set_ylabel(r\"$\\frac{ \\langle | \\rho(k) | ^2 \\rangle }{S(k)}$\", fontsize = 14)\n",
    "    ax1.legend(loc = 'upper right', bbox_to_anchor=(1.1, 1.1), fancybox=True)\n",
    "    ax1.set_title(r\"$\\theta = {{{0}}}^{{\\circ}}$\".format(t_angle))\n",
    "\n",
    "    ax2.set_rticks([0.5, 1.0])\n",
    "    ax2.set_thetalim([0, np.pi])\n",
    "    ax2.set_ylabel(r\"$\\frac{ \\langle | \\rho(k) | ^2 \\rangle }{S(k)}$\", fontsize = 14)\n",
    "    ax2.legend(loc = 'upper right', bbox_to_anchor=(1.1, 1.1), fancybox=True)\n",
    "    ax2.set_title(r\"$\\psi = {{{0}}}^{{\\circ}}$\".format(p_angle))\n",
    "\n",
    "fig.tight_layout()"
   ]
  },
  {
   "cell_type": "markdown",
   "metadata": {},
   "source": [
    "### C1"
   ]
  },
  {
   "cell_type": "code",
   "execution_count": null,
   "metadata": {},
   "outputs": [],
   "source": [
    "data = [np.array(ad[('boxlib', 'struct_fact_phi_phi')]).reshape(L, L, L)]\n",
    "\n",
    "ar = 1.5\n",
    "sz = 3\n",
    "fig, ax = plt.subplots(1, 1, figsize = (sz*ar, sz))\n",
    "\n",
    "colors = ['b', \"r\", \"k\"]\n",
    "markers = [\"o\", \"s\", '^']\n",
    "labels = [r\"$\\rho$\"]\n",
    "\n",
    "rho_scale = lambda a, c: a*c\n",
    "# rho_scale = None\n",
    "scale_factor = 1\n",
    "\n",
    "for d in data:\n",
    "        x, y = spherically_averaged_structure_factor(d, rho_data, C1_data, scale_factor = scale_factor, func = rho_scale, cs = False)\n",
    "        x, y = make_bins(x, binsize, to_bin2 = y)\n",
    "        ax.plot(x, y, \n",
    "                marker = markers[0], color = colors[0],\n",
    "                markerfacecolor = \"None\", markersize = 10, \n",
    "                linestyle = \"None\", label = labels[0])\n",
    "\n",
    "ax.plot(x, [1]*x.size, 'lime', lw = 2)\n",
    "\n",
    "ax.set_xlabel(r\"$k$\", fontsize = 14)\n",
    "ax.set_ylabel(r\"$\\frac{ \\langle | \\phi(k) | ^2 \\rangle }{S(k)}$\", fontsize = 14)\n",
    "\n",
    "ax.tick_params(axis='both', which='major', labelsize=12)\n",
    "ax.tick_params(axis='both', which='minor', labelsize=10)\n",
    "ax.legend()\n",
    "# ax.set_ylim([0.9, 1.1])"
   ]
  },
  {
   "cell_type": "markdown",
   "metadata": {},
   "source": [
    "### Velocities"
   ]
  },
  {
   "cell_type": "code",
   "execution_count": null,
   "metadata": {},
   "outputs": [],
   "source": [
    "data = [np.array(ad[('boxlib', 'struct_fact_ux_ux')]).reshape(L, L, L),\n",
    "        np.array(ad[('boxlib', 'struct_fact_uy_uy')]).reshape(L, L, L),\n",
    "        np.array(ad[('boxlib', 'struct_fact_uz_uz')]).reshape(L, L, L)]\n",
    "\n",
    "ar = 1.5\n",
    "sz = 3\n",
    "fig, ax = plt.subplots(1, 1, figsize = (sz*ar, sz))\n",
    "\n",
    "colors = ['b', \"r\", \"k\"]\n",
    "markers = [\"o\", \"s\", '^']\n",
    "labels = [r\"$u_x$\", r\"$u_y$\", r\"$u_z$\"]\n",
    "\n",
    "# rho_scale = lambda a, c: a*c\n",
    "rho_scale = [None, None, None]\n",
    "scale_factor = [1, 1, 1]\n",
    "\n",
    "for i, d in enumerate(data):\n",
    "        x, y = spherically_averaged_structure_factor(d, rho_data, C1_data, scale_factor = scale_factor[i], func = rho_scale[i])\n",
    "        x, y = make_bins(x, binsize, to_bin2 = y)\n",
    "        ax.plot(x, y, \n",
    "                marker = markers[0], color = colors[i],\n",
    "                markerfacecolor = \"None\", markersize = 10, \n",
    "                linestyle = \"None\", label = labels[i])\n",
    "\n",
    "ax.plot(x, [1]*x.size, 'lime', lw = 2)\n",
    "\n",
    "ax.set_xlabel(r\"$k$\", fontsize = 14)\n",
    "ax.set_ylabel(r\"$\\frac{ \\langle | u_{\\alpha}(k) | ^2 \\rangle }{S(k)}$\", fontsize = 14)\n",
    "\n",
    "ax.tick_params(axis='both', which='major', labelsize=12)\n",
    "ax.tick_params(axis='both', which='minor', labelsize=10)\n",
    "ax.legend()\n",
    "# ax.set_ylim([0.9, 1.1])"
   ]
  },
  {
   "cell_type": "code",
   "execution_count": null,
   "metadata": {},
   "outputs": [],
   "source": []
  }
 ],
 "metadata": {
  "kernelspec": {
   "display_name": ".venv",
   "language": "python",
   "name": "python3"
  },
  "language_info": {
   "codemirror_mode": {
    "name": "ipython",
    "version": 3
   },
   "file_extension": ".py",
   "mimetype": "text/x-python",
   "name": "python",
   "nbconvert_exporter": "python",
   "pygments_lexer": "ipython3",
   "version": "3.10.12"
  }
 },
 "nbformat": 4,
 "nbformat_minor": 2
}
